{
  "nbformat": 4,
  "nbformat_minor": 0,
  "metadata": {
    "colab": {
      "name": "Image Demo.ipynb",
      "provenance": [],
      "authorship_tag": "ABX9TyOYm/Hy6sFjXuXOX/QNZUrq"
    },
    "kernelspec": {
      "name": "python3",
      "display_name": "Python 3"
    },
    "accelerator": "GPU"
  },
  "cells": [
    {
      "cell_type": "markdown",
      "metadata": {
        "id": "gDUAbXrXdLM7",
        "colab_type": "text"
      },
      "source": [
        "####Run the below cell to detect emotions from images.\n",
        "\n",
        "Note: Don't forget to change the filepaths accordingly.\n"
      ]
    },
    {
      "cell_type": "code",
      "metadata": {
        "id": "R3ApVXhxQS_O",
        "colab_type": "code",
        "colab": {}
      },
      "source": [
        "from keras.preprocessing.image import img_to_array\n",
        "from keras.models import load_model\n",
        "import imutils\n",
        "import cv2\n",
        "import numpy as np\n",
        "import sys\n",
        "from google.colab.patches import cv2_imshow\n",
        " # parameters for loading data and images\n",
        "detection_model_path = '/content/haarcascade_frontalface_default.xml'\n",
        "emotion_model_path = '/content/_mini_XCEPTION.80-0.66.hdf5'\n",
        "img_path = '/content/WIN_20200106_23_44_35_Pro.jpg' \n",
        "# hyper-parameters for bounding boxes shape\n",
        "# loading models\n",
        "face_detection = cv2.CascadeClassifier(detection_model_path)\n",
        "emotion_classifier = load_model(emotion_model_path, compile=False)\n",
        "EMOTIONS = [\"Angry\",\"Disgust\",\"Scared\", \"Happy\", \"Sad\", \"Surprised\",\"Neutral\"]\n",
        " \n",
        "#reading the frame\n",
        "im = cv2.imread(img_path)\n",
        "frame = cv2.imread(img_path,0)\n",
        "faces = face_detection.detectMultiScale(frame,scaleFactor=1.1,minNeighbors=5,minSize=(30,30),flags=cv2.CASCADE_SCALE_IMAGE)\n",
        "faces = sorted(faces, reverse=True,key=lambda x: (x[2] - x[0]) * (x[3] - x[1]))\n",
        "if len(faces) > 0:\n",
        "    for face_coordinates in faces:\n",
        "        #x1, x2, y1, y2 = apply_offsets(face_coordinates, emotion_offsets)\n",
        "        #fac = frame[y1:y2, x1:x2]\n",
        "        (fX, fY, fW, fH) = face_coordinates\n",
        "        roi = frame[fY:fY + fH, fX:fX + fW]\n",
        "        roi = cv2.resize(roi, (48, 48))\n",
        "        roi = roi.astype(\"float\") / 255.0\n",
        "        roi = img_to_array(roi)\n",
        "        roi = np.expand_dims(roi, axis=0)\n",
        "        preds = emotion_classifier.predict(roi)[0]\n",
        "        emotion_probability = np.max(preds)\n",
        "        label = EMOTIONS[preds.argmax()]\n",
        "        if label == \"Angry\":\n",
        "            cv2.putText(im, label, (fX, fY - 10), cv2.FONT_HERSHEY_SIMPLEX, 0.45, (255, 0, 0), 1)\n",
        "            cv2.rectangle(im, (fX, fY), (fX + fW, fY + fH),(255, 0, 0), 1)\n",
        "        elif label == \"Sad\":\n",
        "            cv2.putText(im, label, (fX, fY - 10), cv2.FONT_HERSHEY_SIMPLEX, 0.45, (0, 0, 255), 1)\n",
        "            cv2.rectangle(im, (fX, fY), (fX + fW, fY + fH),(0, 0, 255), 1)\n",
        "        elif label == \"Happy\":\n",
        "            cv2.putText(im, label, (fX, fY - 10), cv2.FONT_HERSHEY_SIMPLEX, 0.45, (255, 255, 0), 1)\n",
        "            cv2.rectangle(im, (fX, fY), (fX + fW, fY + fH),(255, 255, 0), 1)\n",
        "        elif label == \"Surprised\":\n",
        "            cv2.putText(im, label, (fX, fY - 10), cv2.FONT_HERSHEY_SIMPLEX, 0.45, (0, 255, 255), 1)\n",
        "            cv2.rectangle(im, (fX, fY), (fX + fW, fY + fH),(0, 255, 255), 1)\n",
        "        elif label == \"Neutral\":\n",
        "            cv2.putText(im, label, (fX, fY - 10), cv2.FONT_HERSHEY_SIMPLEX, 0.45, (255, 255, 255), 1)\n",
        "            cv2.rectangle(im, (fX, fY), (fX + fW, fY + fH),(255, 255, 255), 1)\n",
        "        elif label == \"Scared\":\n",
        "            cv2.putText(im, label, (fX, fY - 10), cv2.FONT_HERSHEY_SIMPLEX, 0.45, (255,140,0), 1)\n",
        "            cv2.rectangle(im, (fX, fY), (fX + fW, fY + fH),(255,140,0), 1)\n",
        "        else:\n",
        "            cv2.putText(im, label, (fX, fY - 10), cv2.FONT_HERSHEY_SIMPLEX, 0.45, (0, 255, 0), 1)\n",
        "            cv2.rectangle(im, (fX, fY), (fX + fW, fY + fH),(0, 255, 0), 1)\n",
        "else:\n",
        "  print(\"I'm sorry. Looks like there's no face in the picture!\")\n",
        "cv2_imshow(im)\n",
        "cv2.imwrite('test_output/'+img_path.split('/')[-1],im)\n",
        "\n",
        "cv2.destroyAllWindows()\n"
      ],
      "execution_count": null,
      "outputs": []
    }
  ]
}